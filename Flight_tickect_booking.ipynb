# Install the required packages (if not already installed)
!pip install python-dotenv speechrecognition pydub

# Import necessary libraries
import speech_recognition as sr
from pydub import AudioSegment
import re
import smtplib
from email.mime.text import MIMEText
from email.mime.multipart import MIMEMultipart
from getpass import getpass
import requests
import os
from dotenv import load_dotenv

# Load environment variables from .env file
load_dotenv()

# Function to convert number words to digits
def word_to_num(word):
    word = word.lower()
    numbers = {
        'zero': '0',
        'one': '1',
        'two': '2',
        'three': '3',
        'four': '4',
        'five': '5',
        'six': '6',
        'seven': '7',
        'eight': '8',
        'nine': '9',
        'ten': '10'
    }
    return numbers.get(word, word)  # Return the word itself if not found

# Function to convert voice to text
def voice_to_text(audio_file_path):
    # Convert audio to WAV format if not already
    if not audio_file_path.lower().endswith('.wav'):
        try:
            sound = AudioSegment.from_file(audio_file_path)
            audio_file_path = "converted_audio.wav"
            sound.export(audio_file_path, format="wav")
        except Exception as e:
            print(f"Error converting audio file: {e}")
            return None

    recognizer = sr.Recognizer()
    with sr.AudioFile(audio_file_path) as source:
        audio_data = recognizer.record(source)
        try:
            text = recognizer.recognize_google(audio_data)
            print("Converted Text:\n", text)
            return text
        except sr.UnknownValueError:
            print("Google Speech Recognition could not understand audio")
            return None
        except sr.RequestError as e:
            print(f"Could not request results from Google Speech Recognition service; {e}")
            return None

# Function to extract user data from text with improved regex patterns
def extract_user_data(text):
    # Define improved regex patterns for each required field
    patterns = {
        'username': r'(?:my name is|username is)\s*([A-Z][a-z]+(?:\s[A-Z][a-z]+)*?)\b(?=\s+(?:and|I|born|,|\.|$))',
        'dob': r'(?:born on|date of birth is|date of birth)\s*([A-Za-z]+\s\d{1,2}(?:st|nd|rd|th)?(?:,|\s)\s*\d{4})',
        'origin_to_destination': r'(?:from|origin is)\s*([A-Z][a-z]+(?:\s[A-Z][a-z]+)*)\s+to\s+([A-Z][a-z]+(?:\s[A-Z][a-z]+)*?)\b(?=\s+(?:my|passport|I)|\.|\s|$)',
        'passport_number': r'(?:passport number is|passport number:)\s*([A-Za-z0-9]+)',
        'seat_preference': r'(?:seat preference is|prefer a)\s*(window|aisle|middle)(?:\s+seat)?',
        'meal_preference': r'(?:meal preference is|would like)\s*([A-Za-z\s]+?)(?=\s+(?:during|to|carry|number|kilograms|$))'
    }

    user_data = {}
    for field, pattern in patterns.items():
        match = re.search(pattern, text, re.IGNORECASE)
        if match:
            if field == 'origin_to_destination':
                user_data['origin'] = match.group(1).strip()
                user_data['destination'] = match.group(2).strip()
            else:
                value = match.group(1).strip()
                user_data[field] = value
        else:
            user_data[field] = None  # or set a default value

    print("\nExtracted User Data:")
    for key, value in user_data.items():
        print(f"{key}: {value}")

    return user_data 

# Function to retrieve flights from the external API based on origin and destination
def get_flights(origin, destination):
    url = "https://134fd915-ea3b-4cca-a95d-54b5d54eb568.mock.pstmn.io/flight_details"
    try:
        # Make a GET request to the API with query parameters
        params = {
            'origin': origin,
            'destination': destination
        }
        response = requests.get(url, params=params)
        response.raise_for_status()  # Raise an error for bad responses

        # Assuming the API returns a JSON response
        flight_data = response.json()

        # Check if flight_data is a list
        if isinstance(flight_data, list):
            # Further filter to ensure exact match (case-insensitive)
            filtered_flights = [
                flight for flight in flight_data
                if flight.get('origin', '').strip().lower() == origin.lower() and
                   flight.get('destination', '').strip().lower() == destination.lower()
            ]
            return filtered_flights
        else:
            # If it's a single flight dict, check if it matches
            if (flight_data.get('origin', '').strip().lower() == origin.lower() and
                flight_data.get('destination', '').strip().lower() == destination.lower()):
                return [flight_data]
            else:
                return []

    except requests.exceptions.RequestException as e:
        print(f"Error fetching flight data: {e}")
        return []

# Function to send confirmation email
def send_confirmation_email(sender_email, sender_password, recipient_email, itinerary_details):
    try:
        # Set up the server
        server = smtplib.SMTP('smtp.gmail.com', 587)
        server.starttls()
        server.login(sender_email, sender_password)

        # Create the email content
        message = MIMEMultipart("alternative")
        message["Subject"] = "Flight Booking Confirmation"
        message["From"] = sender_email
        message["To"] = recipient_email

        text = f"""\
Dear {itinerary_details['username']},

Your flight has been successfully booked with the following details:

Flight Number: {itinerary_details['flight_number']}
Flight Name: {itinerary_details['flight_name']}
Origin to Destination: {itinerary_details['origin_to_destination']}
Departure Date: {itinerary_details['departure_date']}
Seat Preference: {itinerary_details['seat_preference']}
Meal Preference: {itinerary_details['meal_preference']}

Thank you for choosing our service!

Best regards,
Flight Booking Team
"""
        part = MIMEText(text, "plain")
        message.attach(part)

        # Send the email
        server.sendmail(sender_email, recipient_email, message.as_string())
        server.quit()
        print("Confirmation email sent successfully!")
    except Exception as e:
        print(f"Failed to send email: {e}")

# Main workflow
def main():
    # Step 1: Upload voice file
    try:
        from google.colab import files
    except ImportError:
        print("This script is designed to run in Google Colab. Please upload the audio file accordingly.")
        return

    uploaded = files.upload()

    if len(uploaded) == 0:
        print("No file uploaded.")
        return

    audio_file_path = list(uploaded.keys())[0]

    # Step 2: Convert voice to text
    text = voice_to_text(audio_file_path)
    if not text:
        return

    # Step 3: Extract user data
    user_data = extract_user_data(text)

    # Validate extracted data
    required_fields = ['username', 'dob', 'origin', 'destination', 'passport_number']
    missing_fields = [field for field in required_fields if not user_data.get(field)]

    if missing_fields:
        print("\nError: Could not extract the following fields:")
        for field in missing_fields:
            print(f"- {field}")
        print("Please ensure the voice input is clear and contains all required information.")
        return

    # Step 4: Set default values for preferences if not specified
    user_data['seat_preference'] = user_data.get('seat_preference', 'No seat preference specified.')
    user_data['meal_preference'] = user_data.get('meal_preference', 'No meal preference specified.')

    # Step 5: Retrieve available flights
    available_flights = get_flights(user_data['origin'], user_data['destination'])

    if not available_flights:
        print("No flights available for the selected route.")
        return

    # Step 6: Display available flights
    print("\nAvailable Flights:")
    for idx, flight in enumerate(available_flights, start=1):
        flight_number = flight.get('flight_number', 'N/A')
        flight_name = flight.get('flight_name', 'N/A')
        departure_date = flight.get('Date_of_flight', 'N/A')
        flight_class = flight.get('class', 'N/A')
        mode_of_payment = flight.get('mode_of_payment', 'N/A')
        print(f"{idx}. Flight Number: {flight_number}, Flight Name: {flight_name}, Departure Date: {departure_date}, Class: {flight_class}, Mode of Payment: {mode_of_payment}")

    # Step 7: Get user selection
    try:
        selection = int(input("\nEnter the number of the flight you want to book: "))
        if selection < 1 or selection > len(available_flights):
            print("Invalid selection.")
            return
        selected_flight = available_flights[selection - 1]
    except ValueError:
        print("Invalid input. Please enter a number corresponding to the flight.")
        return

    # Step 8: Simulate booking process
    print("\nBooking your flight...")
    # Here, you would normally call the booking API
    # We'll assume the booking is successful
    print("Flight booked successfully!")

    # Step 9: Send confirmation email
    print("\nSending confirmation email...")

    # Securely get sender email credentials from environment variables
    sender_email = os.getenv('SENDER_EMAIL')
    sender_password = os.getenv('SENDER_PASSWORD')

    if not sender_email or not sender_password:
        print("Sender email credentials not found. Please set them as environment variables.")
        return

    recipient_email = input("Recipient Email Address: ")

    # Prepare itinerary details
    itinerary_details = {
        'username': user_data['username'],
        'flight_number': selected_flight.get('flight_number', 'N/A'),
        'flight_name': selected_flight.get('flight_name', 'N/A'),
        'origin_to_destination': f"{user_data['origin']} to {user_data['destination']}",
        'departure_date': selected_flight.get('Date_of_flight', 'N/A'),
        'seat_preference': user_data['seat_preference'],
        'meal_preference': user_data['meal_preference']
    }

    send_confirmation_email(sender_email, sender_password, recipient_email, itinerary_details)

# Run the main workflow
if __name__ == "__main__":
    main()
